{
  "nbformat": 4,
  "nbformat_minor": 0,
  "metadata": {
    "colab": {
      "provenance": [],
      "authorship_tag": "ABX9TyPp/YXKpEghG0aTR3OKV68h",
      "include_colab_link": true
    },
    "kernelspec": {
      "name": "python3",
      "display_name": "Python 3"
    },
    "language_info": {
      "name": "python"
    }
  },
  "cells": [
    {
      "cell_type": "markdown",
      "metadata": {
        "id": "view-in-github",
        "colab_type": "text"
      },
      "source": [
        "<a href=\"https://colab.research.google.com/github/Akshat13shah/STT-_Ai_Assignment7/blob/main/Model_Checkpointing.ipynb\" target=\"_parent\"><img src=\"https://colab.research.google.com/assets/colab-badge.svg\" alt=\"Open In Colab\"/></a>"
      ]
    },
    {
      "cell_type": "markdown",
      "source": [
        "# Group 18\n",
        "\n",
        "1.  Paras Prashant Shirvale\n",
        "* Roll Number: 23110232\n",
        "\n",
        "2. Akshat Shah\n",
        "* 23110232\n",
        "\n",
        "GitHub Repository: https://github.com/Akshat13shah/STT-_Ai_Assignment7"
      ],
      "metadata": {
        "id": "xB_ShPCwwcPz"
      }
    },
    {
      "cell_type": "code",
      "execution_count": null,
      "metadata": {
        "id": "EA5vvLIkwYOo"
      },
      "outputs": [],
      "source": []
    }
  ]
}